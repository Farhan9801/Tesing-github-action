{
 "cells": [
  {
   "cell_type": "code",
   "execution_count": 1,
   "metadata": {},
   "outputs": [
    {
     "name": "stdout",
     "output_type": "stream",
     "text": [
      "Requirement already satisfied: flask_smorest in /opt/anaconda3/envs/betterhalf/lib/python3.11/site-packages (0.44.0)\n",
      "Requirement already satisfied: apispec<7,>=6.0.0 in /opt/anaconda3/envs/betterhalf/lib/python3.11/site-packages (from apispec[marshmallow]<7,>=6.0.0->flask_smorest) (6.6.1)\n",
      "Requirement already satisfied: flask<4,>=3.0.2 in /opt/anaconda3/envs/betterhalf/lib/python3.11/site-packages (from flask_smorest) (3.0.3)\n",
      "Requirement already satisfied: marshmallow<4,>=3.18.0 in /opt/anaconda3/envs/betterhalf/lib/python3.11/site-packages (from flask_smorest) (3.21.2)\n",
      "Requirement already satisfied: webargs<9,>=8.0.0 in /opt/anaconda3/envs/betterhalf/lib/python3.11/site-packages (from flask_smorest) (8.4.0)\n",
      "Requirement already satisfied: werkzeug<4,>=3.0.1 in /opt/anaconda3/envs/betterhalf/lib/python3.11/site-packages (from flask_smorest) (3.0.3)\n",
      "Requirement already satisfied: packaging>=21.3 in /opt/anaconda3/envs/betterhalf/lib/python3.11/site-packages (from apispec<7,>=6.0.0->apispec[marshmallow]<7,>=6.0.0->flask_smorest) (23.1)\n",
      "Requirement already satisfied: Jinja2>=3.1.2 in /opt/anaconda3/envs/betterhalf/lib/python3.11/site-packages (from flask<4,>=3.0.2->flask_smorest) (3.1.3)\n",
      "Requirement already satisfied: itsdangerous>=2.1.2 in /opt/anaconda3/envs/betterhalf/lib/python3.11/site-packages (from flask<4,>=3.0.2->flask_smorest) (2.2.0)\n",
      "Requirement already satisfied: click>=8.1.3 in /opt/anaconda3/envs/betterhalf/lib/python3.11/site-packages (from flask<4,>=3.0.2->flask_smorest) (8.1.7)\n",
      "Requirement already satisfied: blinker>=1.6.2 in /opt/anaconda3/envs/betterhalf/lib/python3.11/site-packages (from flask<4,>=3.0.2->flask_smorest) (1.6.2)\n",
      "Requirement already satisfied: MarkupSafe>=2.1.1 in /opt/anaconda3/envs/betterhalf/lib/python3.11/site-packages (from werkzeug<4,>=3.0.1->flask_smorest) (2.1.3)\n"
     ]
    }
   ],
   "source": [
    "!pip install flask_smorest"
   ]
  },
  {
   "cell_type": "code",
   "execution_count": null,
   "metadata": {},
   "outputs": [],
   "source": []
  }
 ],
 "metadata": {
  "kernelspec": {
   "display_name": "betterhalf",
   "language": "python",
   "name": "python3"
  },
  "language_info": {
   "codemirror_mode": {
    "name": "ipython",
    "version": 3
   },
   "file_extension": ".py",
   "mimetype": "text/x-python",
   "name": "python",
   "nbconvert_exporter": "python",
   "pygments_lexer": "ipython3",
   "version": "3.11.7"
  }
 },
 "nbformat": 4,
 "nbformat_minor": 2
}
